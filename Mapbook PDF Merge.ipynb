{
 "cells": [
  {
   "cell_type": "markdown",
   "id": "liked-remains",
   "metadata": {},
   "source": [
    "### CHSS Mapbook Script\n",
    "<p> Date: September 30th 2021 </p> \n",
    "<p> Analyst No. 134 </p> \n",
    "<p> Purpose: Create a  Mapbook for CHSS </p>\n",
    "<p><a href=\"https://caendkoelsch.wordpress.com/2019/05/10/merging-multiple-pdfs-into-a-single-pdf/\">Example for Merging PDF Files Into One</a></p>"
   ]
  },
  {
   "cell_type": "code",
   "execution_count": 1,
   "id": "banned-magic",
   "metadata": {},
   "outputs": [],
   "source": [
    "# Step 1: Import Libraries \n",
    "import pandas as pd \n",
    "import numpy as np  \n",
    "import PyPDF2 "
   ]
  },
  {
   "cell_type": "code",
   "execution_count": 18,
   "id": "competent-absolute",
   "metadata": {},
   "outputs": [],
   "source": [
    "# Step2: Open the files that have to be merged one by one: \n",
    "pdf1File = open(r\"./WR_CI.pdf\", 'rb')\n",
    "pdf2File = open(r\"./West_Region_MainPage.pdf\", 'rb')\n",
    "pdf3File = open(r\"./West_RegionMB.pdf\", 'rb')"
   ]
  },
  {
   "cell_type": "code",
   "execution_count": 19,
   "id": "instructional-inspiration",
   "metadata": {},
   "outputs": [],
   "source": [
    "# Step 3: Read the files that you have opened\n",
    "pdf1Reader = PyPDF2.PdfFileReader(pdf1File)\n",
    "pdf2Reader = PyPDF2.PdfFileReader(pdf2File)\n",
    "pdf3Reader = PyPDF2.PdfFileReader(pdf3File)"
   ]
  },
  {
   "cell_type": "code",
   "execution_count": 20,
   "id": "municipal-tradition",
   "metadata": {},
   "outputs": [],
   "source": [
    "# Step 4: Create a Empty PDF File \n",
    "pdfWriter = PyPDF2.PdfFileWriter()"
   ]
  },
  {
   "cell_type": "code",
   "execution_count": 21,
   "id": "valid-lender",
   "metadata": {},
   "outputs": [],
   "source": [
    "#Step 5: Loop through all the pagenumbers for the first document\n",
    "# Document 1: West_Region_MainPage\n",
    "for pageNum in range(pdf1Reader.numPages):\n",
    "    pageObj = pdf1Reader.getPage(pageNum)\n",
    "    pdfWriter.addPage(pageObj)\n",
    "# Document 2: WR_CI \n",
    "for pageNum in range(pdf2Reader.numPages):\n",
    "    pageObj = pdf2Reader.getPage(pageNum)\n",
    "    pdfWriter.addPage(pageObj)\n",
    "# Document 3: West_RegionMB\n",
    "for pageNum in range(pdf3Reader.numPages):\n",
    "    pageObj = pdf3Reader.getPage(pageNum)\n",
    "    pdfWriter.addPage(pageObj)"
   ]
  },
  {
   "cell_type": "code",
   "execution_count": 22,
   "id": "speaking-sunrise",
   "metadata": {},
   "outputs": [],
   "source": [
    "# Step 6: Write the pages into a new document\n",
    "pdfOutputFile = open(r\"./West_Region_Mapbook.pdf\", 'wb')\n",
    "pdfWriter.write(pdfOutputFile)"
   ]
  },
  {
   "cell_type": "code",
   "execution_count": 23,
   "id": "respected-holmes",
   "metadata": {},
   "outputs": [],
   "source": [
    "# Step 7: Close all files \n",
    "pdfOutputFile.close()\n",
    "pdf1File.close()\n",
    "pdf2File.close()\n",
    "pdf3File.close()"
   ]
  },
  {
   "cell_type": "markdown",
   "id": "twenty-interval",
   "metadata": {},
   "source": [
    "## Results of Script \n",
    "<p> Script works well. No issues so far </p> "
   ]
  },
  {
   "cell_type": "code",
   "execution_count": null,
   "id": "directed-merchant",
   "metadata": {},
   "outputs": [],
   "source": []
  }
 ],
 "metadata": {
  "kernelspec": {
   "display_name": "Python 3",
   "language": "python",
   "name": "python3"
  },
  "language_info": {
   "codemirror_mode": {
    "name": "ipython",
    "version": 3
   },
   "file_extension": ".py",
   "mimetype": "text/x-python",
   "name": "python",
   "nbconvert_exporter": "python",
   "pygments_lexer": "ipython3",
   "version": "3.8.8"
  },
  "latex_envs": {
   "LaTeX_envs_menu_present": true,
   "autoclose": false,
   "autocomplete": true,
   "bibliofile": "biblio.bib",
   "cite_by": "apalike",
   "current_citInitial": 1,
   "eqLabelWithNumbers": true,
   "eqNumInitial": 1,
   "hotkeys": {
    "equation": "Ctrl-E",
    "itemize": "Ctrl-I"
   },
   "labels_anchors": false,
   "latex_user_defs": false,
   "report_style_numbering": false,
   "user_envs_cfg": false
  },
  "nbTranslate": {
   "displayLangs": [
    "*"
   ],
   "hotkey": "alt-t",
   "langInMainMenu": true,
   "sourceLang": "en",
   "targetLang": "fr",
   "useGoogleTranslate": true
  }
 },
 "nbformat": 4,
 "nbformat_minor": 5
}
